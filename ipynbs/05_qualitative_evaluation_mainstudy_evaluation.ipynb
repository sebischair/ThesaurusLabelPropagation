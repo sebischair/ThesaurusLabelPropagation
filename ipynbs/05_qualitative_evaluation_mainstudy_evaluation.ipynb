{
 "cells": [
  {
   "cell_type": "code",
   "execution_count": null,
   "metadata": {},
   "outputs": [],
   "source": [
    "import numpy as np\n",
    "import pandas as pd\n",
    "import matplotlib.pyplot as plt"
   ]
  },
  {
   "cell_type": "code",
   "execution_count": null,
   "metadata": {},
   "outputs": [],
   "source": [
    "def perc(part, total):\n",
    "    result = part / total\n",
    "    return \"{0:.1f}\".format(result * 100)"
   ]
  },
  {
   "cell_type": "code",
   "execution_count": null,
   "metadata": {},
   "outputs": [],
   "source": [
    "def analyze_excel_study(path):\n",
    "    df = pd.read_excel(\n",
    "        io = path,\n",
    "        skiprows = 7,\n",
    "        index_col = 0,\n",
    "        header = None,\n",
    "        names = [\"score\"],\n",
    "        usecols = \"E,G\")\n",
    "    df.index.name = \"word\"\n",
    "    df = df[df.index.notnull()]\n",
    "    print(df.shape)\n",
    "    print(df.head())\n",
    "    print()\n",
    "    total = len(df)\n",
    "    zeros = len(df[df.score == 0])\n",
    "    ones = len(df[df.score == 1])\n",
    "    twos = len(df[df.score == 2])\n",
    "    print(\"0: \", zeros, perc(zeros, total))\n",
    "    print(\"1: \", ones, perc(ones, total))\n",
    "    print(\"2: \", twos, perc(twos, total))"
   ]
  }
 ],
 "metadata": {
  "kernelspec": {
   "display_name": "Python 3",
   "language": "python",
   "name": "python3"
  },
  "language_info": {
   "codemirror_mode": {
    "name": "ipython",
    "version": 3
   },
   "file_extension": ".py",
   "mimetype": "text/x-python",
   "name": "python",
   "nbconvert_exporter": "python",
   "pygments_lexer": "ipython3",
   "version": "3.7.0"
  }
 },
 "nbformat": 4,
 "nbformat_minor": 2
}
