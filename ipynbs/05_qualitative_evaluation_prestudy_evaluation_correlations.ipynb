{
 "cells": [
  {
   "cell_type": "code",
   "execution_count": null,
   "metadata": {},
   "outputs": [],
   "source": [
    "import numpy as np\n",
    "import pandas as pd\n",
    "import matplotlib.pyplot as plt"
   ]
  },
  {
   "cell_type": "code",
   "execution_count": null,
   "metadata": {},
   "outputs": [],
   "source": [
    "df_eval1 = pd.read_excel(\n",
    "    io = \"<PRESTUDY_PART_1_PATH>\",\n",
    "    index_col = 2,\n",
    "    usecols = \"B:F\")\n",
    "print(df_eval1.shape)\n",
    "df_eval1.head()"
   ]
  },
  {
   "cell_type": "code",
   "execution_count": null,
   "metadata": {},
   "outputs": [],
   "source": [
    "df_eval2 = pd.read_excel(\n",
    "    io = \"<PRESTUDY_PART_2_PATH>\",\n",
    "    index_col = 2,\n",
    "    usecols = \"B:F\")\n",
    "print(df_eval2.shape)\n",
    "df_eval2.head()"
   ]
  },
  {
   "cell_type": "code",
   "execution_count": null,
   "metadata": {},
   "outputs": [],
   "source": [
    "df_eval_all = pd.concat([df_eval1, df_eval2])\n",
    "df_eval_all.head()"
   ]
  },
  {
   "cell_type": "code",
   "execution_count": null,
   "metadata": {},
   "outputs": [],
   "source": [
    "# via https://tryolabs.com/blog/2017/03/16/pandas-seaborn-a-guide-to-handle-visualize-data-elegantly\n",
    "from scipy.stats import spearmanr\n",
    "\n",
    "# via https://seaborn.pydata.org/tutorial/aesthetics.html\n",
    "sns.set_context(\"talk\")\n",
    "\n",
    "g = sns.jointplot(data=df_eval_all, x='y_conf', y='score', kind='reg', color='#0070C0', y_jitter=0.05, stat_func=spearmanr)\n",
    "g.ax_joint.set_yticks([0, 1, 2])\n",
    "g.ax_joint.set_xticks([0.0, 0.2, 0.4, 0.6, 0.8, 1.0])\n",
    "plt.savefig('05_evaluation_qualitative_prestudy_correlation_conf.png', dpi = 300)\n",
    "plt.show()"
   ]
  },
  {
   "cell_type": "code",
   "execution_count": null,
   "metadata": {},
   "outputs": [],
   "source": [
    "df_eval_all[\"#y_train\"].plot.hist()"
   ]
  },
  {
   "cell_type": "code",
   "execution_count": null,
   "metadata": {},
   "outputs": [],
   "source": [
    "g = sns.jointplot(data=df_eval_all, x='#y_train', y='score', kind='reg', color='#0070C0', y_jitter=0.05, stat_func=spearmanr)\n",
    "g.ax_joint.set_yticks([0, 1, 2])\n",
    "plt.savefig('05_evaluation_qualitative_prestudy_correlation_ytrain.png', dpi = 300)\n",
    "plt.show()"
   ]
  },
  {
   "cell_type": "code",
   "execution_count": null,
   "metadata": {},
   "outputs": [],
   "source": [
    "g = sns.jointplot(data=df_eval_all, x='#y_pred', y='score', kind='reg', color='#0070C0', y_jitter=0.05, stat_func=spearmanr)\n",
    "g.ax_joint.set_yticks([0, 1, 2])\n",
    "plt.savefig('05_evaluation_qualitative_prestudy_correlation_ypred.png', dpi = 300)\n",
    "plt.show()"
   ]
  }
 ],
 "metadata": {
  "kernelspec": {
   "display_name": "Python 3",
   "language": "python",
   "name": "python3"
  },
  "language_info": {
   "codemirror_mode": {
    "name": "ipython",
    "version": 3
   },
   "file_extension": ".py",
   "mimetype": "text/x-python",
   "name": "python",
   "nbconvert_exporter": "python",
   "pygments_lexer": "ipython3",
   "version": "3.7.0"
  }
 },
 "nbformat": 4,
 "nbformat_minor": 2
}
