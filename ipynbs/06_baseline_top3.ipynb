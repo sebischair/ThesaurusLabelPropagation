{
 "cells": [
  {
   "cell_type": "code",
   "execution_count": null,
   "metadata": {},
   "outputs": [],
   "source": [
    "import numpy as np\n",
    "import pandas as pd\n",
    "from gensim.models import KeyedVectors\n",
    "from os.path import join\n",
    "from scipy.sparse import coo_matrix\n",
    "import logging\n",
    "import math\n",
    "from collections import defaultdict\n",
    "logger = logging.getLogger()\n",
    "logger.setLevel(logging.DEBUG)"
   ]
  },
  {
   "cell_type": "code",
   "execution_count": null,
   "metadata": {},
   "outputs": [],
   "source": [
    "cd ../.."
   ]
  },
  {
   "cell_type": "code",
   "execution_count": null,
   "metadata": {},
   "outputs": [],
   "source": [
    "from lib.phase8 import evaluate"
   ]
  },
  {
   "cell_type": "code",
   "execution_count": null,
   "metadata": {},
   "outputs": [],
   "source": [
    "def get_train_test(path):\n",
    "    train = pd.read_table(\n",
    "        join(path, \"y_train.txt\"),\n",
    "        sep=\" \",\n",
    "        dtype={\"synset\": np.int32},\n",
    "        index_col=0)[\"synset\"]\n",
    "    test = pd.read_table(\n",
    "        join(path, \"y_test.txt\"),\n",
    "        sep=\" \",\n",
    "        dtype={\"synset\": np.int32},\n",
    "        index_col=0)[\"synset\"]\n",
    "    return train, test\n",
    "\n",
    "def baseline_synset_vector(word_vectors, words, k):\n",
    "    return word_vectors.most_similar(positive=words, topn=k)  # [(word, similarity)]\n",
    "\n",
    "def row_check_top3(row):\n",
    "    if not isinstance(row[\"y_top3_classes\"], list):\n",
    "        return 0\n",
    "    \n",
    "    return row[\"y_test\"] in row[\"y_top3_classes\"]\n",
    "\n",
    "def row_check_top1(row):\n",
    "    if not isinstance(row[\"y_top3_classes\"], list):\n",
    "        return 0\n",
    "    \n",
    "    return row[\"y_test\"] == row[\"y_top3_classes\"][0]\n",
    "\n",
    "def row_check_no_prediction(row):\n",
    "    if not isinstance(row[\"y_top3_classes\"], list):\n",
    "        return 1\n",
    "    \n",
    "    return 0"
   ]
  },
  {
   "cell_type": "code",
   "execution_count": null,
   "metadata": {},
   "outputs": [],
   "source": [
    "k = 200\n",
    "\n",
    "# fastText\n",
    "#embeddings_file = \"<PROJECT_DIR>/02_word_embeddings/<DATE>/main.txt\"\n",
    "#thesaurus_sampled_list = [\n",
    "#    \"<PROJECT_DIR>/05_thesaurus_sampled/<DATE>\",\n",
    "#    \"<PROJECT_DIR>/05_thesaurus_sampled/<DATE>\",\n",
    "#    \"<PROJECT_DIR>/05_thesaurus_sampled/<DATE>\"\n",
    "#]\n",
    "\n",
    "# word2vec\n",
    "embeddings_file = \"<PROJECT_DIR>/02_word_embeddings/<DATE>/main.txt\"\n",
    "thesaurus_sampled_list = [\n",
    "    \"<PROJECT_DIR>/05_thesaurus_sampled/<DATE>\",\n",
    "    \"<PROJECT_DIR>/05_thesaurus_sampled/<DATE>\",\n",
    "    \"<PROJECT_DIR>/05_thesaurus_sampled/<DATE>\"\n",
    "]\n",
    "\n",
    "word_vectors = KeyedVectors.load_word2vec_format(embeddings_file, binary=False)\n",
    "vocab = list(word_vectors.vocab.keys())"
   ]
  },
  {
   "cell_type": "code",
   "execution_count": null,
   "metadata": {},
   "outputs": [],
   "source": [
    "stats = []\n",
    "\n",
    "for thesaurus_sampled in thesaurus_sampled_list:\n",
    "    y_train, y_test = get_train_test(thesaurus_sampled)\n",
    "    grouped = y_train.groupby(y_train)\n",
    "    synsets = grouped.groups\n",
    "    print(\"unique synsets\", len(synsets))\n",
    "    \n",
    "    suggestions = defaultdict(list)\n",
    "\n",
    "    for idx, (synset_id, group) in enumerate(grouped):\n",
    "        synset_predictions = baseline_synset_vector(word_vectors, group.index.tolist(), k) # [(word, similarity)]\n",
    "\n",
    "        for word, similarity in synset_predictions:\n",
    "            suggestions[word].append((synset_id, similarity))\n",
    "\n",
    "        if idx % 100 == 0:\n",
    "            print(idx)\n",
    "            \n",
    "    suggestions_sorted_top3 = defaultdict(list)\n",
    "    for word, suggestion_list in suggestions.items():\n",
    "        suggestions_sorted_top3[word] = sorted(suggestion_list, key=lambda x: x[1], reverse=True)[:3] # sort descending\n",
    "\n",
    "    for word, suggestion_list in suggestions_sorted_top3.items():\n",
    "        suggestions_sorted_top3[word] = [synset_id for synset_id, conf in suggestion_list]\n",
    "\n",
    "    print(len(suggestions_sorted_top3.items()))\n",
    "    \n",
    "    preds = pd.DataFrame(list(suggestions_sorted_top3.items()))\n",
    "    preds.columns = [\"word\", \"y_top3_classes\"]\n",
    "    preds = preds.set_index(\"word\")\n",
    "    print(preds.head())\n",
    "    \n",
    "    evaluation = y_test.to_frame().join(preds)\n",
    "    evaluation.columns = [\"y_test\", \"y_top3_classes\"]\n",
    "    print(evaluation.head())\n",
    "    \n",
    "    within_top3_mean = evaluation.apply(row_check_top3, axis=1).mean()\n",
    "    top1_mean = evaluation.apply(row_check_top1, axis=1).mean()\n",
    "    no_predictions = evaluation.apply(row_check_no_prediction, axis=1).sum()\n",
    "    \n",
    "    stats.append({\n",
    "        \"within_top3_mean\": within_top3_mean,\n",
    "        \"top1_mean\": top1_mean,\n",
    "        \"no_predictions\": no_predictions\n",
    "    })\n",
    "          \n",
    "print(stats)\n",
    "# print(np.mean(stats))"
   ]
  }
 ],
 "metadata": {
  "kernelspec": {
   "display_name": "Python 3",
   "language": "python",
   "name": "python3"
  },
  "language_info": {
   "codemirror_mode": {
    "name": "ipython",
    "version": 3
   },
   "file_extension": ".py",
   "mimetype": "text/x-python",
   "name": "python",
   "nbconvert_exporter": "python",
   "pygments_lexer": "ipython3",
   "version": "3.7.0"
  }
 },
 "nbformat": 4,
 "nbformat_minor": 2
}
