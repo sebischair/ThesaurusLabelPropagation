{
 "cells": [
  {
   "cell_type": "markdown",
   "metadata": {},
   "source": [
    "## DATEV Thesaurus Stats\n",
    "\n",
    "From the original thesaurus file `german_relat.json`, the pretty-printed and valid-JSON file `german_relat_pretty-20180605.json` was generated as follows:\n",
    "\n",
    "```\n",
    "# Pretty-Printing File\n",
    "cat ./data/german_relat.json | jq . -M > ./output/german_relat/german_relat_pretty-20180605.json\n",
    "\n",
    "# Was many separate JSON objects - surrounded them by an array to have one valid JSON object\n",
    "sed -i.bak 's/}/}\\,/g' german_relat_pretty-20180605.json\n",
    "# `brew install gnu-sed` to install sed that behaves like on Linux (macOS-sed behaves slightly different)\n",
    "gsed -i.bak '1i[' german_relat_pretty-20180605.json\n",
    "echo \"]\" >> german_relat_pretty-20180605.json\n",
    "# then MANUALLY: removed the last comma in the file\n",
    "# `brew install moreutils` to install the sponge util\n",
    "cat german_relat_pretty-20180605.json | jq . | sponge german_relat_pretty-20180605.json\n",
    "```"
   ]
  },
  {
   "cell_type": "code",
   "execution_count": null,
   "metadata": {},
   "outputs": [],
   "source": [
    "import os\n",
    "from os.path import dirname\n",
    "import json\n",
    "\n",
    "projectRootDir = dirname(dirname(dirname(os.getcwd())))\n",
    "thesaurusFilename = projectRootDir + \"/data/german_relat_pretty-20180605.json\"\n",
    "with open(thesaurusFilename) as f:\n",
    "    thesaurusConcepts = json.load(f)\n",
    "print(thesaurusConcepts[0])"
   ]
  },
  {
   "cell_type": "code",
   "execution_count": null,
   "metadata": {},
   "outputs": [],
   "source": [
    "print(\"Number of concepts:\", len(thesaurusConcepts))"
   ]
  },
  {
   "cell_type": "code",
   "execution_count": null,
   "metadata": {},
   "outputs": [],
   "source": [
    "from collections import defaultdict\n",
    "import pprint\n",
    "pp = pprint.PrettyPrinter(indent=4)\n",
    "\n",
    "conceptClasses = defaultdict(lambda: 0)\n",
    "for concept in thesaurusConcepts:\n",
    "    conceptClasses[concept[\"Class\"]] += 1\n",
    "print(\"There are\", len(conceptClasses), \"concept classes:\")\n",
    "pp.pprint(dict(conceptClasses))"
   ]
  },
  {
   "cell_type": "code",
   "execution_count": null,
   "metadata": {},
   "outputs": [],
   "source": [
    "import pandas as pd\n",
    "dfThesarus = pd.DataFrame.from_dict(thesaurusConcepts)\n",
    "dfThesarus = dfThesarus.set_index(\"Concept\")\n",
    "dfThesarus = dfThesarus[dfThesarus[\"Class\"] == \"synonym\"]\n",
    "dfThesarus = dfThesarus.drop(columns = [\"ExpansionKeys\", \"Class\"])\n",
    "dfThesarus[\"KeysCount\"] =  dfThesarus.apply(lambda row: len(row[\"Keys\"]), axis=1)\n",
    "dfThesarus.head()"
   ]
  },
  {
   "cell_type": "code",
   "execution_count": null,
   "metadata": {},
   "outputs": [],
   "source": [
    "print(dfThesarus[\"KeysCount\"].describe())\n",
    "print()\n",
    "print(\"Number of keys:\\t\\t\", dfThesarus[\"KeysCount\"].sum())\n",
    "\n",
    "keysList = []\n",
    "dfThesarus.apply(lambda row: keysList.extend(row[\"Keys\"]), axis=1)\n",
    "\n",
    "print(\"Number of unique keys:\\t\", len(set(keysList)))\n",
    "\n",
    "from collections import Counter\n",
    "cnt = Counter(keysList)\n",
    "multipleAppearKeys = [k for k, v in cnt.items() if v > 1]\n",
    "print(\"Number of keys that appear in multiple concepts:\", len(multipleAppearKeys))"
   ]
  },
  {
   "cell_type": "code",
   "execution_count": null,
   "metadata": {},
   "outputs": [],
   "source": [
    "dfThesarus[\"KeysCount\"].value_counts()"
   ]
  },
  {
   "cell_type": "code",
   "execution_count": null,
   "metadata": {},
   "outputs": [],
   "source": [
    "import matplotlib.pyplot as plt\n",
    "import numpy as np\n",
    "ax = dfThesarus.plot.hist(by=\"KeysCount\", edgecolor=\"black\", figsize=(8,6), align=\"left\", bins=range(1,35), rwidth=1)\n",
    "for p in ax.patches:\n",
    "    if p.get_height() == 0:\n",
    "        continue\n",
    "    ax.annotate(str(int(p.get_height())), xy=(p.get_x()+p.get_width()/2., p.get_height()), ha='center', va='center', xytext=(0, 10), textcoords='offset points')\n",
    "ax.xaxis.set_ticks(np.arange(1, 33, 1))\n",
    "ax.legend_.remove()\n",
    "\n",
    "plt.xlabel(\"Synset Size\")\n",
    "plt.tight_layout()\n",
    "plt.savefig('thesaurus_synset_keycount_hist.png', dpi = 300)\n",
    "plt.show()"
   ]
  }
 ],
 "metadata": {
  "kernelspec": {
   "display_name": "Python 3",
   "language": "python",
   "name": "python3"
  },
  "language_info": {
   "codemirror_mode": {
    "name": "ipython",
    "version": 3
   },
   "file_extension": ".py",
   "mimetype": "text/x-python",
   "name": "python",
   "nbconvert_exporter": "python",
   "pygments_lexer": "ipython3",
   "version": "3.7.0"
  }
 },
 "nbformat": 4,
 "nbformat_minor": 2
}
