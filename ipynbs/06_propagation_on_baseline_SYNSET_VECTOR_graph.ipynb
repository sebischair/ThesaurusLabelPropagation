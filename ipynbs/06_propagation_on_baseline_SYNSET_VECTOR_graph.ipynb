{
 "cells": [
  {
   "cell_type": "code",
   "execution_count": null,
   "metadata": {},
   "outputs": [],
   "source": [
    "import numpy as np\n",
    "import pandas as pd\n",
    "from gensim.models import KeyedVectors\n",
    "from os.path import join\n",
    "from scipy.sparse import coo_matrix\n",
    "import logging\n",
    "logger = logging.getLogger()\n",
    "logger.setLevel(logging.DEBUG)"
   ]
  },
  {
   "cell_type": "code",
   "execution_count": null,
   "metadata": {},
   "outputs": [],
   "source": [
    "cd ../src"
   ]
  },
  {
   "cell_type": "code",
   "execution_count": null,
   "metadata": {},
   "outputs": [],
   "source": [
    "from lib.propagation.label_spreading import label_spreading\n",
    "from lib.phase8 import evaluate"
   ]
  },
  {
   "cell_type": "code",
   "execution_count": null,
   "metadata": {},
   "outputs": [],
   "source": [
    "def get_train_test(path):\n",
    "    train = pd.read_table(\n",
    "        join(path, \"y_train.txt\"),\n",
    "        sep=\" \",\n",
    "        dtype={\"synset\": np.int32},\n",
    "        index_col=0)[\"synset\"]\n",
    "    test = pd.read_table(\n",
    "        join(path, \"y_test.txt\"),\n",
    "        sep=\" \",\n",
    "        dtype={\"synset\": np.int32},\n",
    "        index_col=0)[\"synset\"]\n",
    "    return train, test\n",
    "\n",
    "def baseline_synset_vector(word_vectors, words, k):\n",
    "    return word_vectors.most_similar(positive=words, topn=k)  # [(word, similarity)]"
   ]
  },
  {
   "cell_type": "code",
   "execution_count": null,
   "metadata": {},
   "outputs": [],
   "source": [
    "k = 200\n",
    "\n",
    "# fastText\n",
    "#embeddings_file = \"<PROJECT_DIR>/02_word_embeddings/<DATE>/main.txt\"\n",
    "#thesaurus_sampled_list = [\n",
    "#    \"<PROJECT_DIR>/05_thesaurus_sampled/<DATE>\",\n",
    "#    \"<PROJECT_DIR>/05_thesaurus_sampled/<DATE>\",\n",
    "#    \"<PROJECT_DIR>/05_thesaurus_sampled/<DATE>\"\n",
    "#]\n",
    "\n",
    "# word2vec\n",
    "embeddings_file = \"<PROJECT_DIR>/02_word_embeddings/<DATE>/main.txt\"\n",
    "thesaurus_sampled_list = [\n",
    "    \"<PROJECT_DIR>/05_thesaurus_sampled/<DATE>\",\n",
    "    \"<PROJECT_DIR>/05_thesaurus_sampled/<DATE>\",\n",
    "    \"<PROJECT_DIR>/05_thesaurus_sampled/<DATE>\"\n",
    "]\n",
    "\n",
    "word_vectors = KeyedVectors.load_word2vec_format(embeddings_file, binary=False)\n",
    "vocab = list(word_vectors.vocab.keys())"
   ]
  },
  {
   "cell_type": "code",
   "execution_count": null,
   "metadata": {},
   "outputs": [],
   "source": [
    "stats = []\n",
    "\n",
    "for thesaurus_sampled in thesaurus_sampled_list:\n",
    "    y_train, y_test = get_train_test(thesaurus_sampled)\n",
    "    grouped = y_train.groupby(y_train)\n",
    "    synsets = grouped.groups\n",
    "    print(\"unique synsets\", len(synsets))\n",
    "\n",
    "    axis = [\"synset_{}\".format(synset_id) for synset_id in list(synsets.keys())] + vocab\n",
    "    labels = list(synsets.keys()) + [-1 for v in vocab]\n",
    "\n",
    "    edges = [] # (data, (i, j))\n",
    "    for idx, (synset_id, group) in enumerate(grouped):\n",
    "        synset_predictions = baseline_synset_vector(word_vectors, group.index.tolist(), k) # [(word, similarity)]\n",
    "\n",
    "        edges += [(similarity, (idx, axis.index(word))) for word, similarity in synset_predictions]\n",
    "        edges += [(similarity, (axis.index(word), idx)) for word, similarity in synset_predictions]\n",
    "\n",
    "        if idx % 100 == 0:\n",
    "            print(idx)\n",
    "\n",
    "    print(\"edge number\", len(edges))\n",
    "    data, locs = zip(*edges)\n",
    "    i, j = zip(*locs)\n",
    "\n",
    "    graph = coo_matrix((data, (i, j)), shape=(len(axis), len(axis)))\n",
    "    \n",
    "    # Propagate baseline graph with various propagation parameters\n",
    "    predictions, confidences, top3_classes = label_spreading(\n",
    "        graph.tocsr(), \n",
    "        labels, \n",
    "        { \"alpha\": 0.2, \"iter\": 15 }\n",
    "    )\n",
    "    \n",
    "    df_labels = pd.DataFrame(axis).set_index(0)\n",
    "    df_labels.index = df_labels.index.rename(\"word\")\n",
    "\n",
    "    df_predicted = df_labels.assign(y_pred=predictions)\n",
    "    df_predicted = df_predicted.assign(y_conf=confidences)\n",
    "    df_predicted = df_predicted.assign(y_top3_classes=top3_classes)\n",
    "    df_predicted = df_predicted.iloc[len(synsets):] # remove the synset rows\n",
    "    print(df_predicted.describe())\n",
    "    print(df_predicted.head())\n",
    "    \n",
    "    # Evaluate performance of propagated graph\n",
    "    df_evaluation = df_predicted.join(y_train, how=\"left\").fillna(-1, downcast=\"infer\")\n",
    "    df_evaluation.rename(columns={\"synset\": \"y_train\"}, inplace=True)\n",
    "\n",
    "    df_evaluation = df_evaluation.join(y_test, how=\"left\")\n",
    "    df_evaluation.rename(columns={\"synset\": \"y_test\"}, inplace=True)\n",
    "\n",
    "    df_evaluation = df_evaluation[[\"y_train\", \"y_pred\", \"y_conf\", \"y_top3_classes\", \"y_test\"]]\n",
    "    stats.append(evaluate(df_evaluation))\n",
    "    \n",
    "stats"
   ]
  }
 ],
 "metadata": {
  "kernelspec": {
   "display_name": "Python 3",
   "language": "python",
   "name": "python3"
  },
  "language_info": {
   "codemirror_mode": {
    "name": "ipython",
    "version": 3
   },
   "file_extension": ".py",
   "mimetype": "text/x-python",
   "name": "python",
   "nbconvert_exporter": "python",
   "pygments_lexer": "ipython3",
   "version": "3.7.0"
  }
 },
 "nbformat": 4,
 "nbformat_minor": 2
}
