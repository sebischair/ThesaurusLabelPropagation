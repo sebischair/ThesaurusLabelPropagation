{
 "cells": [
  {
   "cell_type": "code",
   "execution_count": null,
   "metadata": {},
   "outputs": [],
   "source": [
    "import numpy as np\n",
    "import pandas as pd\n",
    "from os import listdir\n",
    "from genericpath import isfile\n",
    "from os.path import join\n",
    "from collections import Counter\n",
    "import json"
   ]
  },
  {
   "cell_type": "code",
   "execution_count": null,
   "metadata": {},
   "outputs": [],
   "source": [
    "folder = \"/Users/markus/git/master-thesis-nlp/code/thesaurus_propagator/data/RW40jsons\""
   ]
  },
  {
   "cell_type": "code",
   "execution_count": null,
   "metadata": {},
   "outputs": [],
   "source": [
    "files = (f for f in listdir(folder) if isfile(join(folder, f)) and f != \".DS_Store\")"
   ]
  },
  {
   "cell_type": "code",
   "execution_count": null,
   "metadata": {},
   "outputs": [],
   "source": [
    "token_counter = Counter()\n",
    "token_nums = []\n",
    "\n",
    "for idx, f in enumerate(files):\n",
    "    if idx % 10000 == 0:\n",
    "        print(idx)\n",
    "\n",
    "    with open(join(folder, f), 'r') as fh:\n",
    "        data = json.load(fh)\n",
    "\n",
    "    text_data = data['Volltext']\n",
    "    tokens = text_data.split()\n",
    "    \n",
    "    token_nums.append(len(tokens))\n",
    "    token_counter.update(tokens)"
   ]
  },
  {
   "cell_type": "code",
   "execution_count": null,
   "metadata": {},
   "outputs": [],
   "source": [
    "token_nums_series = pd.Series(token_nums)\n",
    "print(token_nums_series.describe())\n",
    "print(token_nums_series.sum())"
   ]
  },
  {
   "cell_type": "code",
   "execution_count": null,
   "metadata": {},
   "outputs": [],
   "source": [
    "token_counter.most_common(10)"
   ]
  },
  {
   "cell_type": "code",
   "execution_count": null,
   "metadata": {},
   "outputs": [],
   "source": [
    "print(len(list(token_counter.keys())))"
   ]
  }
 ],
 "metadata": {
  "kernelspec": {
   "display_name": "Python 3",
   "language": "python",
   "name": "python3"
  },
  "language_info": {
   "codemirror_mode": {
    "name": "ipython",
    "version": 3
   },
   "file_extension": ".py",
   "mimetype": "text/x-python",
   "name": "python",
   "nbconvert_exporter": "python",
   "pygments_lexer": "ipython3",
   "version": "3.7.0"
  }
 },
 "nbformat": 4,
 "nbformat_minor": 2
}
